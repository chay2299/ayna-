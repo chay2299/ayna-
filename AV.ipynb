{
 "cells": [
  {
   "cell_type": "code",
   "execution_count": 1,
   "id": "489c1696-9a18-458e-ad0e-c5d93201d882",
   "metadata": {},
   "outputs": [],
   "source": [
    "import os\n",
    "import json\n",
    "from PIL import Image\n",
    "from torch.utils.data import Dataset, DataLoader"
   ]
  },
  {
   "cell_type": "code",
   "execution_count": 2,
   "id": "0e4ddf34-3528-4051-b9e1-cc553e5013dc",
   "metadata": {},
   "outputs": [
    {
     "name": "stdout",
     "output_type": "stream",
     "text": [
      "Total pairs loaded: 56\n",
      "Shape of the sample: torch.Size([12, 128, 128])\n"
     ]
    }
   ],
   "source": [
    "import torch\n",
    "from torch.utils.data import Dataset\n",
    "from PIL import Image\n",
    "import numpy as np\n",
    "import os\n",
    "import json\n",
    "\n",
    "class PolygonDataset(Dataset):\n",
    "    def __init__(self, input_dir, output_dir, json_file, color_to_idx, transform=None):\n",
    "        self.input_dir = input_dir\n",
    "        self.output_dir = output_dir\n",
    "        self.json_file = json_file\n",
    "        self.color_to_idx = color_to_idx\n",
    "        self.transform = transform\n",
    "        \n",
    "        self.data = []\n",
    "        \n",
    "        # Load JSON directly\n",
    "        with open(json_file, 'r') as f:\n",
    "            data = json.load(f)\n",
    "        \n",
    "        # Iterate through the JSON list and build the dataset\n",
    "        for entry in data:\n",
    "            input_polygon = entry['input_polygon']\n",
    "            color = entry['colour']\n",
    "            output_image = entry['output_image']\n",
    "            \n",
    "            input_path = os.path.join(input_dir, input_polygon)\n",
    "            output_path = os.path.join(output_dir, output_image)\n",
    "            \n",
    "            # Check if both input and output images exist\n",
    "            if os.path.exists(input_path) and os.path.exists(output_path):\n",
    "                self.data.append((input_path, output_path, color))\n",
    "            else:\n",
    "                print(f\"Skipping: {input_path} or {output_path} does not exist\")\n",
    "        \n",
    "        print(f\"Total pairs loaded: {len(self.data)}\")\n",
    "\n",
    "    def __len__(self):\n",
    "        return len(self.data)\n",
    "\n",
    "    def __getitem__(self, idx):\n",
    "        input_path, output_path, color = self.data[idx]\n",
    "    \n",
    "        # Open the input image as binary (1 channel)\n",
    "        input_image = Image.open(input_path).convert('L')  # 'L' for grayscale (binary)\n",
    "        \n",
    "        # Open the output image as RGB (3 channels)\n",
    "        output_image = Image.open(output_path).convert('RGB')\n",
    "        \n",
    "        # Apply transformations if defined\n",
    "        if self.transform:\n",
    "            input_image = self.transform(input_image)\n",
    "            output_image = self.transform(output_image)\n",
    "    \n",
    "        # Convert color to index\n",
    "        color_idx = self.color_to_idx[color]\n",
    "        \n",
    "        # One-hot encoding the color (8 classes, including blue)\n",
    "        one_hot_color = torch.zeros(8)  # Update to 8 classes based on color_to_idx\n",
    "        one_hot_color[color_idx] = 1\n",
    "        \n",
    "        # Reshape the one_hot_color to (8, 128, 128) to match the image dimensions\n",
    "        one_hot_color = one_hot_color.view(8, 1, 1).expand(8, 128, 128)  # Now it has the shape (8, 128, 128)\n",
    "    \n",
    "        # Convert the input image to a 128x128 binary array (1 channel)\n",
    "        input_image = np.array(input_image).reshape(1, 128, 128)  # (128, 128) -> (1, 128, 128)\n",
    "        \n",
    "        # Convert the output image to a 3x128x128 array (3 channels)\n",
    "        output_image = np.array(output_image).transpose(2, 0, 1)  # (128, 128, 3) -> (3, 128, 128)\n",
    "        \n",
    "        # Convert to tensors\n",
    "        input_image = torch.tensor(input_image, dtype=torch.float32) / 255.0  # Normalize binary values to [0, 1]\n",
    "        output_image = torch.tensor(output_image, dtype=torch.float32) / 255.0  # Normalize to [0, 1]\n",
    "        \n",
    "        # Concatenate color (one-hot encoded), input image, and output image along the first dimension\n",
    "        return torch.cat((one_hot_color, input_image, output_image), dim=0)  # Shape: (8, 128, 128) + (1, 128, 128) + (3, 128, 128)\n",
    "\n",
    "# Define the color to index mapping (this can be based on your color set)\n",
    "color_to_idx = {\n",
    "    'cyan': 0, 'red': 1, 'green': 2, 'magenta': 3, 'orange': 4, 'yellow': 5, 'purple': 6, 'blue': 7\n",
    "}\n",
    "\n",
    "# Path to the JSON file and directories\n",
    "json_file = '/home/vivek-vardhan/AV/dataset/dataset/training/data.json'\n",
    "input_folder = \"/home/vivek-vardhan/AV/dataset/dataset/training/inputs/\"\n",
    "output_folder = \"/home/vivek-vardhan/AV/dataset/dataset/training/outputs/\"\n",
    "\n",
    "# Initialize the dataset\n",
    "train_dataset = PolygonDataset(input_folder, output_folder, json_file, color_to_idx, transform=None)\n",
    "\n",
    "# Sample usage: Get the first sample in the dataset\n",
    "sample = train_dataset[0]\n",
    "\n",
    "# Print the shape of the sample\n",
    "print(f\"Shape of the sample: {sample.shape}\")\n"
   ]
  },
  {
   "cell_type": "code",
   "execution_count": 3,
   "id": "55c76acf-a799-421c-b680-c8593582d1bc",
   "metadata": {},
   "outputs": [
    {
     "name": "stdout",
     "output_type": "stream",
     "text": [
      "Length of training dataset:56\n",
      "Length of one training dataset sample:12\n"
     ]
    }
   ],
   "source": [
    "print(f\"Length of training dataset:{len(train_dataset)}\")\n",
    "print(f\"Length of one training dataset sample:{len(train_dataset[0])}\")"
   ]
  },
  {
   "cell_type": "code",
   "execution_count": 4,
   "id": "eda6b241-a2ab-464e-8e41-5571ec8a59cb",
   "metadata": {},
   "outputs": [
    {
     "data": {
      "image/png": "[encoded data removed]",
      "text/plain": [
       "<Figure size 1500x500 with 3 Axes>"
      ]
     },
     "metadata": {},
     "output_type": "display_data"
    }
   ],
   "source": [
    "import matplotlib.pyplot as plt\n",
    "import numpy as np\n",
    "import torch\n",
    "\n",
    "# Get the first sample from the dataset\n",
    "sample = train_dataset[0]\n",
    "\n",
    "# Extract the one-hot encoded color, input image, and output image\n",
    "one_hot_color = sample[:8, :, :]  # The first 8 channels are the one-hot encoded color (since color_to_idx has 8 classes now)\n",
    "input_image = sample[8:9, :, :]   # The next channel is the input image (1 channel)\n",
    "output_image = sample[9:, :, :]   # The next 3 channels are the output image (3 channels)\n",
    "\n",
    "# Convert to numpy for display\n",
    "one_hot_color = one_hot_color.numpy()  # (8, 128, 128)\n",
    "input_image = input_image.numpy().squeeze()  # Convert to numpy and remove singleton dimensions\n",
    "output_image = output_image.numpy().transpose(1, 2, 0)  # Convert to (128, 128, 3) for RGB\n",
    "\n",
    "# Visualize the first non-zero channel of one-hot encoded color\n",
    "# Find the first channel where the value is 1 (non-zero)\n",
    "active_color_channel = np.argmax(one_hot_color, axis=0)  # This gives a 128x128 array with values from 0 to 7\n",
    "\n",
    "# Plot the images using matplotlib\n",
    "fig, axes = plt.subplots(1, 3, figsize=(15, 5))\n",
    "\n",
    "# Display the one-hot color (display the active channel as a binary image)\n",
    "axes[0].imshow(active_color_channel, cmap='tab10')  # Use 'tab10' colormap to show the active color channel\n",
    "axes[0].set_title(\"One-Hot Color\")\n",
    "axes[0].axis('off')\n",
    "\n",
    "# Display the input image (grayscale)\n",
    "axes[1].imshow(input_image, cmap='gray')\n",
    "axes[1].set_title(\"Input Image\")\n",
    "axes[1].axis('off')\n",
    "\n",
    "# Display the output image (RGB)\n",
    "axes[2].imshow(output_image)\n",
    "axes[2].set_title(\"Output Image\")\n",
    "axes[2].axis('off')\n",
    "\n",
    "plt.show()\n"
   ]
  },
  {
   "cell_type": "code",
   "execution_count": 5,
   "id": "e817d6f0-252a-4f6a-8c0f-9e3164bdbdff",
   "metadata": {},
   "outputs": [],
   "source": [
    "import torch\n",
    "import torch.nn as nn\n",
    "import torch.nn.functional as F\n",
    "\n",
    "class UNet(nn.Module):\n",
    "    def __init__(self, in_channels=9, out_channels=3):\n",
    "        super(UNet, self).__init__()\n",
    "\n",
    "        # Encoder (input channels = 12, output channels = 64, 128, 256)\n",
    "        self.enc1 = self.conv_block(in_channels, 64)\n",
    "        self.enc2 = self.conv_block(64, 128)\n",
    "        self.enc3 = self.conv_block(128, 256)\n",
    "\n",
    "        # Decoder (reverse the encoder channels)\n",
    "        self.dec1 = self.upconv_block(256, 128)\n",
    "        self.dec2 = self.upconv_block(128, 64)\n",
    "        \n",
    "        # Final Convolution Layer to output RGB (3 channels)\n",
    "        self.final_conv = nn.Conv2d(64, out_channels, kernel_size=1)\n",
    "\n",
    "        self.pool = nn.MaxPool2d(kernel_size=2, stride=2)\n",
    "\n",
    "    def forward(self, x):\n",
    "        # Encoder Path\n",
    "        enc1 = self.enc1(x)\n",
    "        enc2 = self.enc2(self.pool(enc1))\n",
    "        enc3 = self.enc3(self.pool(enc2))\n",
    "        \n",
    "        # Decoder Path\n",
    "        dec1 = self.dec1(enc3)\n",
    "        dec2 = self.dec2(dec1)\n",
    "        \n",
    "        # Final Convolution (to get 3 channels: RGB)\n",
    "        out = self.final_conv(dec2)\n",
    "\n",
    "        # Apply Sigmoid to ensure the output is in [0, 1] (for RGB images)\n",
    "        out = torch.sigmoid(out)  # Use this if your output values are normalized to [0, 1]\n",
    "\n",
    "        return out\n",
    "\n",
    "    def conv_block(self, in_channels, out_channels):\n",
    "        \"\"\"Convolution block: Conv -> ReLU -> Conv -> ReLU\"\"\"\n",
    "        return nn.Sequential(\n",
    "            nn.Conv2d(in_channels, out_channels, kernel_size=3, padding=1),\n",
    "            nn.ReLU(inplace=True),\n",
    "            nn.Conv2d(out_channels, out_channels, kernel_size=3, padding=1),\n",
    "            nn.ReLU(inplace=True)\n",
    "        )\n",
    "\n",
    "    def upconv_block(self, in_channels, out_channels):\n",
    "        \"\"\"Upsampling block: ConvTranspose -> ReLU\"\"\"\n",
    "        return nn.Sequential(\n",
    "            nn.ConvTranspose2d(in_channels, out_channels, kernel_size=2, stride=2),\n",
    "            nn.ReLU(inplace=True)\n",
    "        )"
   ]
  },
  {
   "cell_type": "code",
   "execution_count": 6,
   "id": "b788f73e-5971-4b64-b4e8-1e77224ad273",
   "metadata": {},
   "outputs": [],
   "source": [
    "import torch\n",
    "import torch.optim as optim\n",
    "import torch.nn as nn\n",
    "\n",
    "# Define the U-Net model (already defined previously)\n",
    "model = UNet(in_channels=9, out_channels=3)  # 7 classes for the one-hot encoded color\n",
    "\n",
    "# Move model to GPU if available\n",
    "device = torch.device('cpu')\n",
    "model = model.to(device)\n",
    "\n",
    "# Define loss function (CrossEntropyLoss)\n",
    "# CrossEntropyLoss expects the target to be a 2D tensor with class indices (not one-hot encoded)\n",
    "criterion = nn.CrossEntropyLoss()\n",
    "\n",
    "# Define optimizer (Adam optimizer)\n",
    "optimizer = optim.Adam(model.parameters(), lr=1e-4)\n",
    "\n",
    "# Optional: Define a learning rate scheduler (for better learning rate management)\n",
    "scheduler = optim.lr_scheduler.StepLR(optimizer, step_size=10, gamma=0.1)\n",
    "\n",
    "# Now, when training, you would call scheduler.step() at the end of each epoch\n"
   ]
  },
  {
   "cell_type": "code",
   "execution_count": 15,
   "id": "e3e34065-0302-49e7-abff-768eda4220be",
   "metadata": {},
   "outputs": [
    {
     "data": {
      "text/html": [
       "Finishing previous runs because reinit is set to 'default'."
      ],
      "text/plain": [
       "<IPython.core.display.HTML object>"
      ]
     },
     "metadata": {},
     "output_type": "display_data"
    },
    {
     "data": {
      "text/html": [],
      "text/plain": [
       "<IPython.core.display.HTML object>"
      ]
     },
     "metadata": {},
     "output_type": "display_data"
    },
    {
     "data": {
      "text/html": [
       " View run <strong style=\"color:#cdcd00\">unet-coloring-run-1</strong> at: <a href='https://wandb.ai/venkatachaithanyaa-mahindra-university/ayna-polygon-coloring/runs/uxkc4s4r' target=\"_blank\">https://wandb.ai/venkatachaithanyaa-mahindra-university/ayna-polygon-coloring/runs/uxkc4s4r</a><br> View project at: <a href='https://wandb.ai/venkatachaithanyaa-mahindra-university/ayna-polygon-coloring' target=\"_blank\">https://wandb.ai/venkatachaithanyaa-mahindra-university/ayna-polygon-coloring</a><br>Synced 5 W&B file(s), 0 media file(s), 0 artifact file(s) and 0 other file(s)"
      ],
      "text/plain": [
       "<IPython.core.display.HTML object>"
      ]
     },
     "metadata": {},
     "output_type": "display_data"
    },
    {
     "data": {
      "text/html": [
       "Find logs at: <code>./wandb/run-20250805_232755-uxkc4s4r/logs</code>"
      ],
      "text/plain": [
       "<IPython.core.display.HTML object>"
      ]
     },
     "metadata": {},
     "output_type": "display_data"
    },
    {
     "data": {
      "text/html": [
       "Tracking run with wandb version 0.21.0"
      ],
      "text/plain": [
       "<IPython.core.display.HTML object>"
      ]
     },
     "metadata": {},
     "output_type": "display_data"
    },
    {
     "data": {
      "text/html": [
       "Run data is saved locally in <code>/home/vivek-vardhan/AV/wandb/run-20250805_232817-fjogs08k</code>"
      ],
      "text/plain": [
       "<IPython.core.display.HTML object>"
      ]
     },
     "metadata": {},
     "output_type": "display_data"
    },
    {
     "data": {
      "text/html": [
       "Syncing run <strong><a href='https://wandb.ai/venkatachaithanyaa-mahindra-university/ayna-polygon-coloring/runs/fjogs08k' target=\"_blank\">unet-coloring-run-1</a></strong> to <a href='https://wandb.ai/venkatachaithanyaa-mahindra-university/ayna-polygon-coloring' target=\"_blank\">Weights & Biases</a> (<a href='https://wandb.me/developer-guide' target=\"_blank\">docs</a>)<br>"
      ],
      "text/plain": [
       "<IPython.core.display.HTML object>"
      ]
     },
     "metadata": {},
     "output_type": "display_data"
    },
    {
     "data": {
      "text/html": [
       " View project at <a href='https://wandb.ai/venkatachaithanyaa-mahindra-university/ayna-polygon-coloring' target=\"_blank\">https://wandb.ai/venkatachaithanyaa-mahindra-university/ayna-polygon-coloring</a>"
      ],
      "text/plain": [
       "<IPython.core.display.HTML object>"
      ]
     },
     "metadata": {},
     "output_type": "display_data"
    },
    {
     "data": {
      "text/html": [
       " View run at <a href='https://wandb.ai/venkatachaithanyaa-mahindra-university/ayna-polygon-coloring/runs/fjogs08k' target=\"_blank\">https://wandb.ai/venkatachaithanyaa-mahindra-university/ayna-polygon-coloring/runs/fjogs08k</a>"
      ],
      "text/plain": [
       "<IPython.core.display.HTML object>"
      ]
     },
     "metadata": {},
     "output_type": "display_data"
    },
    {
     "data": {
      "text/html": [
       "<button onClick=\"this.nextSibling.style.display='block';this.style.display='none';\">Display W&B run</button><iframe src='https://wandb.ai/venkatachaithanyaa-mahindra-university/ayna-polygon-coloring/runs/fjogs08k?jupyter=true' style='border:none;width:100%;height:420px;display:none;'></iframe>"
      ],
      "text/plain": [
       "<wandb.sdk.wandb_run.Run at 0x768bdc1b8a50>"
      ]
     },
     "execution_count": 15,
     "metadata": {},
     "output_type": "execute_result"
    }
   ],
   "source": [
    "import wandb\n",
    "\n",
    "# Training parameters\n",
    "EPOCHS = 10\n",
    "BATCH_SIZE = 12\n",
    "LEARNING_RATE = 10\n",
    "\n",
    "wandb.init(\n",
    "    project=\"ayna-polygon-coloring\",  # or any custom project name\n",
    "    name=\"unet-coloring-run-1\",        # optional: to track specific runs\n",
    "    config={\n",
    "        \"epochs\": EPOCHS,\n",
    "        \"batch_size\": BATCH_SIZE,\n",
    "        \"learning_rate\": LEARNING_RATE,\n",
    "        \"optimizer\": \"Adam\",\n",
    "        \"loss_fn\": \"MSELoss\",\n",
    "        \"architecture\": \"UNet\",\n",
    "        \"condition_vector\": \"one-hot (10 classes)\",\n",
    "    }\n",
    ")"
   ]
  },
  {
   "cell_type": "code",
   "execution_count": 16,
   "id": "ab31092c-383e-4311-a93c-e8d884f24d62",
   "metadata": {},
   "outputs": [
    {
     "name": "stdout",
     "output_type": "stream",
     "text": [
      "Epoch 1/10 finished.\n",
      "Epoch 2/10 finished.\n",
      "Epoch 3/10 finished.\n",
      "Epoch 4/10 finished.\n",
      "Epoch 5/10 finished.\n",
      "Epoch 6/10 finished.\n",
      "Epoch 7/10 finished.\n",
      "Epoch 8/10 finished.\n",
      "Epoch 9/10 finished.\n",
      "Epoch 10/10 finished.\n"
     ]
    }
   ],
   "source": [
    "import torch\n",
    "import torch.nn.functional as F\n",
    "import torch.optim as optim\n",
    "import torch.nn as nn\n",
    "from torch.utils.data import DataLoader\n",
    "\n",
    "# Training parameters\n",
    "epochs = 10\n",
    "batch_size = 12\n",
    "\n",
    "# Initialize DataLoader\n",
    "train_loader = DataLoader(train_dataset, batch_size=batch_size, shuffle=True)\n",
    "\n",
    "# Define loss function (Mean Squared Error for pixel-wise color regression)\n",
    "criterion = nn.MSELoss()\n",
    "optimizer = optim.Adam(model.parameters(), lr=1e-4)\n",
    "\n",
    "# Training loop\n",
    "for epoch in range(epochs):\n",
    "    model.train()  # Set model to training mode\n",
    "    running_loss = 0.0\n",
    "    \n",
    "    for i, data in enumerate(train_loader):\n",
    "        # Unpack the data\n",
    "        one_hot_color = data[:, :8, :, :].to(device)  # First 8 channels: One-hot encoded color\n",
    "        input_image = data[:, 8:9, :, :].to(device)   # 9th channel: Input image\n",
    "        output_image = data[:, 9:, :, :].to(device)    # Remaining channels: Color-filled polygon image\n",
    "\n",
    "        # Concatenate the one-hot color (8 channels) and input image (1 channel)\n",
    "        model_input = torch.cat((one_hot_color, input_image), dim=1)  # Shape: [batch_size, 9, H, W]\n",
    "\n",
    "        # Zero the parameter gradients\n",
    "        optimizer.zero_grad()\n",
    "\n",
    "        # Forward pass\n",
    "        outputs_pred = model(model_input)  # Model output: [batch_size, 3, 128, 128] (RGB color image)\n",
    "\n",
    "        # Resize the model output to match the target dimensions (128x128)\n",
    "        outputs_pred_resized = F.interpolate(outputs_pred, size=(128, 128), mode='bilinear', align_corners=True)\n",
    "\n",
    "        # Compute the loss: MSELoss expects both predictions and targets to have the same shape\n",
    "        loss = criterion(outputs_pred_resized, output_image)  # Compare RGB images\n",
    "\n",
    "        # Backward pass and optimization\n",
    "        loss.backward()\n",
    "        optimizer.step()\n",
    "\n",
    "        # Print statistics\n",
    "        running_loss += loss.item()\n",
    "        if i % 10 == 9:  # Print every 10 batches\n",
    "            print(f\"[Epoch {epoch+1}, Batch {i+1}] loss: {running_loss / 10:.4f}\")\n",
    "            running_loss = 0.0\n",
    "    \n",
    "    print(f\"Epoch {epoch+1}/{epochs} finished.\")\n",
    "\n",
    "# Optionally, save the model after training\n",
    "torch.save(model.state_dict(), '/home/vivek-vardhan/AV/model/model_final.pth')\n"
   ]
  },
  {
   "cell_type": "code",
   "execution_count": 17,
   "id": "704c30b4-ef72-4042-80ed-afadf5f2c66f",
   "metadata": {},
   "outputs": [
    {
     "name": "stdout",
     "output_type": "stream",
     "text": [
      "Total pairs loaded: 5\n",
      "Shape of the sample: torch.Size([12, 128, 128])\n"
     ]
    }
   ],
   "source": [
    "import torch\n",
    "from torch.utils.data import Dataset\n",
    "from PIL import Image\n",
    "import numpy as np\n",
    "import os\n",
    "import json\n",
    "\n",
    "class PolygonDatasetValidation(Dataset):\n",
    "    def __init__(self, input_dir, output_dir, json_file, color_to_idx, transform=None):\n",
    "        self.input_dir = input_dir\n",
    "        self.output_dir = output_dir\n",
    "        self.json_file = json_file\n",
    "        self.color_to_idx = color_to_idx\n",
    "        self.transform = transform\n",
    "        \n",
    "        self.data = []\n",
    "        \n",
    "        # Load JSON directly\n",
    "        with open(json_file, 'r') as f:\n",
    "            data = json.load(f)\n",
    "        \n",
    "        # Iterate through the JSON list and build the dataset\n",
    "        for entry in data:\n",
    "            input_polygon = entry['input_polygon']\n",
    "            color = entry['colour']\n",
    "            output_image = entry['output_image']\n",
    "            \n",
    "            input_path = os.path.join(input_dir, input_polygon)\n",
    "            output_path = os.path.join(output_dir, output_image)\n",
    "            \n",
    "            # Check if both input and output images exist\n",
    "            if os.path.exists(input_path) and os.path.exists(output_path):\n",
    "                self.data.append((input_path, output_path, color))\n",
    "            else:\n",
    "                print(f\"Skipping: {input_path} or {output_path} does not exist\")\n",
    "        \n",
    "        print(f\"Total pairs loaded: {len(self.data)}\")\n",
    "\n",
    "    def __len__(self):\n",
    "        return len(self.data)\n",
    "\n",
    "    def __getitem__(self, idx):\n",
    "        input_path, output_path, color = self.data[idx]\n",
    "    \n",
    "        # Open the input image as binary (1 channel)\n",
    "        input_image = Image.open(input_path).convert('L')  # 'L' for grayscale (binary)\n",
    "        \n",
    "        # Open the output image as RGB (3 channels)\n",
    "        output_image = Image.open(output_path).convert('RGB')\n",
    "        \n",
    "        # Apply transformations if defined\n",
    "        if self.transform:\n",
    "            input_image = self.transform(input_image)\n",
    "            output_image = self.transform(output_image)\n",
    "    \n",
    "        # Convert color to index\n",
    "        color_idx = self.color_to_idx[color]\n",
    "        \n",
    "        # One-hot encoding the color (8 classes, including blue)\n",
    "        one_hot_color = torch.zeros(8)  # Update to 8 classes based on color_to_idx\n",
    "        one_hot_color[color_idx] = 1\n",
    "        \n",
    "        # Reshape the one_hot_color to (8, 128, 128) to match the image dimensions\n",
    "        one_hot_color = one_hot_color.view(8, 1, 1).expand(8, 128, 128)  # Now it has the shape (8, 128, 128)\n",
    "    \n",
    "        # Convert the input image to a 128x128 binary array (1 channel)\n",
    "        input_image = np.array(input_image).reshape(1, 128, 128)  # (128, 128) -> (1, 128, 128)\n",
    "        \n",
    "        # Convert the output image to a 3x128x128 array (3 channels)\n",
    "        output_image = np.array(output_image).transpose(2, 0, 1)  # (128, 128, 3) -> (3, 128, 128)\n",
    "        \n",
    "        # Convert to tensors\n",
    "        input_image = torch.tensor(input_image, dtype=torch.float32) / 255.0  # Normalize binary values to [0, 1]\n",
    "        output_image = torch.tensor(output_image, dtype=torch.float32) / 255.0  # Normalize to [0, 1]\n",
    "        \n",
    "        # Concatenate color (one-hot encoded), input image, and output image along the first dimension\n",
    "        return torch.cat((one_hot_color, input_image, output_image), dim=0)  # Shape: (8, 128, 128) + (1, 128, 128) + (3, 128, 128)\n",
    "\n",
    "# Define the color to index mapping (this can be based on your color set)\n",
    "color_to_idx = {\n",
    "    'cyan': 0, 'red': 1, 'green': 2, 'magenta': 3, 'orange': 4, 'yellow': 5, 'purple': 6, 'blue': 7\n",
    "}\n",
    "\n",
    "# Path to the JSON file and directories\n",
    "json_file = '/home/vivek-vardhan/AV/dataset/dataset/validation/data.json'\n",
    "input_folder = \"/home/vivek-vardhan/AV/dataset/dataset/validation/inputs/\"\n",
    "output_folder = \"/home/vivek-vardhan/AV/dataset/dataset/validation/outputs/\"\n",
    "\n",
    "# Initialize the dataset\n",
    "validation_dataset = PolygonDatasetValidation(input_folder, output_folder, json_file, color_to_idx, transform=None)\n",
    "\n",
    "# Sample usage: Get the first sample in the dataset\n",
    "sample = validation_dataset[0]\n",
    "\n",
    "# Print the shape of the sample\n",
    "print(f\"Shape of the sample: {sample.shape}\")\n"
   ]
  },
  {
   "cell_type": "code",
   "execution_count": 18,
   "id": "3ce1a176-070a-4eea-b01a-2047e4a4309b",
   "metadata": {},
   "outputs": [
    {
     "name": "stdout",
     "output_type": "stream",
     "text": [
      "size of dataset:5\n",
      "size of dataset:torch.Size([12, 128, 128])\n",
      "size of dataset:torch.Size([12, 128, 128])\n",
      "size of dataset:torch.Size([12, 128, 128])\n",
      "size of dataset:torch.Size([12, 128, 128])\n",
      "size of dataset:torch.Size([12, 128, 128])\n"
     ]
    }
   ],
   "source": [
    "print(f\"size of dataset:{len(validation_dataset)}\")\n",
    "for i in range(len(validation_dataset)):\n",
    "    print(f\"size of dataset:{validation_dataset[i].shape}\")"
   ]
  },
  {
   "cell_type": "code",
   "execution_count": 19,
   "id": "92bdb558-8add-4067-b05a-b581e1b1c413",
   "metadata": {},
   "outputs": [],
   "source": [
    "import torch\n",
    "import torch.nn.functional as F\n",
    "from sklearn.metrics import confusion_matrix\n",
    "import numpy as np\n",
    "\n",
    "def evaluate_model(model, validation_loader, criterion, device):\n",
    "    model.eval()  # Set the model to evaluation mode\n",
    "    running_loss = 0.0\n",
    "    correct = 0\n",
    "    total = 0\n",
    "    confusion = np.zeros((8, 8))  # Confusion matrix for 8 classes (can be skipped for color regression)\n",
    "\n",
    "    with torch.no_grad():  # No gradient computation for evaluation\n",
    "        for data in validation_loader:\n",
    "            one_hot_color = data[:, :8, :, :].to(device)  # First 8 channels: One-hot encoded color\n",
    "            input_image = data[:, 8:9, :, :].to(device)   # 9th channel: Input image\n",
    "            output_image = data[:, 9:, :, :].to(device)    # Remaining channels: Color-filled polygon image\n",
    "\n",
    "            # Concatenate the one-hot color (8 channels) and input image (1 channel)\n",
    "            model_input = torch.cat((one_hot_color, input_image), dim=1)  # Shape: [batch_size, 9, H, W]\n",
    "\n",
    "            # Forward pass\n",
    "            outputs_pred = model(model_input)  # Model output: [batch_size, 3, 128, 128] (RGB color image)\n",
    "\n",
    "            # Resize the model output to match the target dimensions (128x128)\n",
    "            outputs_pred_resized = F.interpolate(outputs_pred, size=(128, 128), mode='bilinear', align_corners=True)\n",
    "\n",
    "            # Compute the loss: MSELoss for pixel-wise RGB values\n",
    "            loss = criterion(outputs_pred_resized, output_image)\n",
    "            running_loss += loss.item()\n",
    "\n",
    "            # Since this is color prediction, confusion matrix and accuracy metrics aren't meaningful\n",
    "            # We could compare pixel-wise similarity, PSNR, or SSIM instead if needed.\n",
    "\n",
    "    # Calculate average loss\n",
    "    avg_loss = running_loss / len(validation_loader)\n",
    "\n",
    "    print(f\"Validation Loss: {avg_loss:.4f}\")\n",
    "\n",
    "    return avg_loss"
   ]
  },
  {
   "cell_type": "code",
   "execution_count": 20,
   "id": "959a84fd-3990-4775-820e-deb774e396f0",
   "metadata": {},
   "outputs": [
    {
     "name": "stdout",
     "output_type": "stream",
     "text": [
      "Validation Loss: 0.0641\n"
     ]
    }
   ],
   "source": [
    "# Initialize validation loader\n",
    "validation_loader = DataLoader(validation_dataset, batch_size=5, shuffle=False)\n",
    "\n",
    "# Evaluate the model\n",
    "avg_loss = evaluate_model(model, validation_loader, criterion, device)"
   ]
  },
  {
   "cell_type": "code",
   "execution_count": 21,
   "id": "8538d70c-d14d-45e9-951e-a83eb954d4bc",
   "metadata": {},
   "outputs": [
    {
     "name": "stdout",
     "output_type": "stream",
     "text": [
      "PSNR: 9.8672\n"
     ]
    }
   ],
   "source": [
    "import torch\n",
    "import torchvision.transforms as T\n",
    "\n",
    "def calculate_psnr(pred, target):\n",
    "    mse = torch.mean((pred - target) ** 2)\n",
    "    if mse == 0:\n",
    "        return 100\n",
    "    pixel_max = 1.0  # If images are normalized [0, 1]\n",
    "    return 20 * torch.log10(pixel_max / torch.sqrt(mse))\n",
    "\n",
    "# Inside the evaluation loop:\n",
    "psnr = calculate_psnr(outputs_pred_resized, output_image)\n",
    "print(f\"PSNR: {psnr.item():.4f}\")\n",
    "    "
   ]
  },
  {
   "cell_type": "code",
   "execution_count": 22,
   "id": "223ffcd6-c34a-4e16-922f-3f1ab469ef5c",
   "metadata": {
    "scrolled": true
   },
   "outputs": [
    {
     "data": {
      "text/plain": [
       "(np.float64(-0.5), np.float64(127.5), np.float64(127.5), np.float64(-0.5))"
      ]
     },
     "execution_count": 22,
     "metadata": {},
     "output_type": "execute_result"
    },
    {
     "data": {
      "image/png": "[encoded data removed]",
      "text/plain": [
       "<Figure size 1500x500 with 1 Axes>"
      ]
     },
     "metadata": {},
     "output_type": "display_data"
    }
   ],
   "source": [
    "def inputFunction(color_to_idx, color, input_image):\n",
    "    \n",
    "    #########################################################\n",
    "    input_image = Image.open(input_image).convert('L')  # 'L' for grayscale (binary)\n",
    "\n",
    "    color_idx = color_to_idx[color]\n",
    "    \n",
    "    # One-hot encoding the color (8 classes, including blue)\n",
    "    one_hot_color = torch.zeros(8)  # Update to 8 classes based on color_to_idx\n",
    "    one_hot_color[color_idx] = 1\n",
    "    \n",
    "    # Reshape the one_hot_color to (8, 128, 128) to match the image dimensions\n",
    "    one_hot_color = one_hot_color.view(8, 1, 1).expand(8, 128, 128)  # Now it has the shape (8, 128, 128)\n",
    "    \n",
    "    # Convert the input image to a 128x128 binary array (1 channel)\n",
    "    input_image = np.array(input_image).reshape(1, 128, 128)  # (128, 128) -> (1, 128, 128)\n",
    "    # Convert to tensors\n",
    "    input_image = torch.tensor(input_image, dtype=torch.float32) / 255.0  # Normalize binary values to [0, 1]\n",
    "\n",
    "    model_input = torch.cat((one_hot_color, input_image), dim=0)\n",
    "    # Concatenate color (one-hot encoded), input image, and output image along the first dimension\n",
    "    return model_input  # Shape: (8, 128, 128) + (1, 128, 128) + (3, 128, 128)\n",
    "\n",
    "\n",
    "color_to_idx = {\n",
    "    'cyan': 0, 'red': 1, 'green': 2, 'magenta': 3, 'orange': 4, 'yellow': 5, 'purple': 6, 'blue': 7\n",
    "}\n",
    "\n",
    "color = 'red'\n",
    "input_path = \"/home/vivek-vardhan/AV/dataset/dataset/training/inputs/circle.png\"\n",
    "input_image = Image.open(input_path).convert('L')\n",
    "input_image = np.array(input_image).reshape(1, 128, 128)\n",
    "input_image = torch.tensor(input_image, dtype=torch.float32) / 255.0\n",
    "input_image = input_image.numpy().squeeze()\n",
    "fig, axes = plt.subplots(1, 1, figsize=(15, 5))\n",
    "\n",
    "# Display the one-hot color (display the active channel as a binary image)\n",
    "axes.imshow(input_image,cmap='grey')\n",
    "axes.set_title(\"Input\")\n",
    "axes.axis('off')\n"
   ]
  },
  {
   "cell_type": "code",
   "execution_count": 23,
   "id": "6ec2e453-ac60-428a-bdad-68cab9968bf1",
   "metadata": {},
   "outputs": [
    {
     "data": {
      "text/plain": [
       "(np.float64(-0.5), np.float64(127.5), np.float64(127.5), np.float64(-0.5))"
      ]
     },
     "execution_count": 23,
     "metadata": {},
     "output_type": "execute_result"
    },
    {
     "data": {
      "image/png": "[encoded data removed]",
      "text/plain": [
       "<Figure size 1500x500 with 1 Axes>"
      ]
     },
     "metadata": {},
     "output_type": "display_data"
    }
   ],
   "source": [
    "output_path = \"/home/vivek-vardhan/AV/dataset/dataset/training/outputs/red_circle.png\"\n",
    "output_image = Image.open(output_path).convert('RGB')\n",
    "output_image = np.array(output_image).transpose(2, 0, 1)\n",
    "output_image = torch.tensor(output_image, dtype=torch.float32) / 255.0\n",
    "output_image = output_image.numpy().transpose(1, 2, 0)\n",
    "fig, axes = plt.subplots(1, 1, figsize=(15, 5))\n",
    "\n",
    "# Display the one-hot color (display the active channel as a binary image)\n",
    "axes.imshow(output_image)\n",
    "axes.set_title(\"Output\")\n",
    "axes.axis('off')\n"
   ]
  },
  {
   "cell_type": "code",
   "execution_count": 24,
   "id": "9e35c13e-78cc-4df7-860e-8c34f0495a73",
   "metadata": {},
   "outputs": [],
   "source": [
    "outputs_pred = model(inputFunction(color_to_idx,color,input_path))"
   ]
  },
  {
   "cell_type": "code",
   "execution_count": 25,
   "id": "0f95749f-0677-474b-b7a2-a6086fd105c5",
   "metadata": {},
   "outputs": [
    {
     "data": {
      "text/plain": [
       "tensor([[[0.6996, 0.7017, 0.6939,  ..., 0.7149, 0.6912, 0.7060],\n",
       "         [0.6973, 0.6971, 0.6975,  ..., 0.7159, 0.7092, 0.6974],\n",
       "         [0.7010, 0.7120, 0.7012,  ..., 0.7041, 0.7136, 0.7046],\n",
       "         ...,\n",
       "         [0.7029, 0.7128, 0.7056,  ..., 0.7031, 0.7034, 0.6883],\n",
       "         [0.6982, 0.7116, 0.7064,  ..., 0.7032, 0.7006, 0.7017],\n",
       "         [0.7046, 0.7063, 0.6945,  ..., 0.6929, 0.7040, 0.7062]],\n",
       "\n",
       "        [[0.7016, 0.6984, 0.6852,  ..., 0.6916, 0.7069, 0.7144],\n",
       "         [0.6969, 0.6999, 0.7029,  ..., 0.7051, 0.7055, 0.6977],\n",
       "         [0.7026, 0.6964, 0.7098,  ..., 0.7168, 0.7035, 0.7040],\n",
       "         ...,\n",
       "         [0.6934, 0.7084, 0.6993,  ..., 0.7043, 0.6976, 0.6956],\n",
       "         [0.7070, 0.7027, 0.7149,  ..., 0.6931, 0.7046, 0.6981],\n",
       "         [0.6932, 0.6925, 0.6993,  ..., 0.6913, 0.7071, 0.7041]],\n",
       "\n",
       "        [[0.6840, 0.6919, 0.6893,  ..., 0.7071, 0.6837, 0.6929],\n",
       "         [0.6906, 0.6824, 0.6945,  ..., 0.6952, 0.7023, 0.7003],\n",
       "         [0.6809, 0.6821, 0.6922,  ..., 0.7081, 0.6888, 0.7070],\n",
       "         ...,\n",
       "         [0.6948, 0.6971, 0.6911,  ..., 0.6967, 0.6964, 0.6948],\n",
       "         [0.6836, 0.6867, 0.6887,  ..., 0.6842, 0.6940, 0.6817],\n",
       "         [0.6852, 0.6901, 0.6841,  ..., 0.7003, 0.6813, 0.6899]]],\n",
       "       grad_fn=<SigmoidBackward0>)"
      ]
     },
     "execution_count": 25,
     "metadata": {},
     "output_type": "execute_result"
    }
   ],
   "source": [
    "outputs_pred"
   ]
  },
  {
   "cell_type": "code",
   "execution_count": 26,
   "id": "19e5657d-8d64-41de-b5ec-dcd3bbf1f10b",
   "metadata": {},
   "outputs": [
    {
     "data": {
      "text/plain": [
       "(np.float64(-0.5), np.float64(127.5), np.float64(127.5), np.float64(-0.5))"
      ]
     },
     "execution_count": 26,
     "metadata": {},
     "output_type": "execute_result"
    },
    {
     "data": {
      "image/png": "[encoded data removed]",
      "text/plain": [
       "<Figure size 1500x500 with 1 Axes>"
      ]
     },
     "metadata": {},
     "output_type": "display_data"
    }
   ],
   "source": [
    "output_image = outputs_pred\n",
    "output_image = outputs_pred.detach().cpu().numpy().transpose(1, 2, 0)\n",
    "fig, axes = plt.subplots(1, 1, figsize=(15, 5))\n",
    "\n",
    "# Display the one-hot color (display the active channel as a binary image)\n",
    "axes.imshow(output_image)\n",
    "axes.set_title(\"Output\")\n",
    "axes.axis('off')\n"
   ]
  },
  {
   "cell_type": "code",
   "execution_count": null,
   "id": "e404ea62-3871-4b1b-be56-68a90132ea1c",
   "metadata": {},
   "outputs": [],
   "source": []
  }
 ],
 "metadata": {
  "kernelspec": {
   "display_name": "AV",
   "language": "python",
   "name": "av"
  },
  "language_info": {
   "codemirror_mode": {
    "name": "ipython",
    "version": 3
   },
   "file_extension": ".py",
   "mimetype": "text/x-python",
   "name": "python",
   "nbconvert_exporter": "python",
   "pygments_lexer": "ipython3",
   "version": "3.13.5"
  }
 },
 "nbformat": 4,
 "nbformat_minor": 5
}
